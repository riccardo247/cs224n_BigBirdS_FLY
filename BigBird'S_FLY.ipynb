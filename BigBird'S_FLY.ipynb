{
  "nbformat": 4,
  "nbformat_minor": 0,
  "metadata": {
    "accelerator": "GPU",
    "colab": {
      "name": "BigBird'S FLY.ipynb",
      "provenance": [],
      "collapsed_sections": [],
      "toc_visible": true,
      "include_colab_link": true
    },
    "kernelspec": {
      "display_name": "Python 3",
      "name": "python3"
    }
  },
  "cells": [
    {
      "cell_type": "markdown",
      "metadata": {
        "id": "view-in-github",
        "colab_type": "text"
      },
      "source": [
        "<a href=\"https://colab.research.google.com/github/riccardo247/cs224n_BigBirdS_FLY/blob/main/BigBird'S_FLY.ipynb\" target=\"_parent\"><img src=\"https://colab.research.google.com/assets/colab-badge.svg\" alt=\"Open In Colab\"/></a>"
      ]
    },
    {
      "cell_type": "markdown",
      "metadata": {
        "id": "cD4xFEjWxtpc"
      },
      "source": [
        "### BigBird Summarising Financial Long Text You can read\r\n",
        "\r\n",
        "\r\n"
      ]
    },
    {
      "cell_type": "code",
      "metadata": {
        "id": "BAEheXiPEUAF"
      },
      "source": [
        "!pip install git+https://github.com/google-research/bigbird.git -q"
      ],
      "execution_count": null,
      "outputs": []
    },
    {
      "cell_type": "code",
      "metadata": {
        "id": "zMotUClMFbHj"
      },
      "source": [
        "! pip install --upgrade --force-reinstall nltk"
      ],
      "execution_count": null,
      "outputs": []
    },
    {
      "cell_type": "code",
      "metadata": {
        "id": "iYX9na7prFtM"
      },
      "source": [
        "import nltk\r\n",
        "nltk.download('punkt')"
      ],
      "execution_count": null,
      "outputs": []
    },
    {
      "cell_type": "code",
      "metadata": {
        "id": "qFqiLMrtELV-"
      },
      "source": [
        "import tensorflow.compat.v2 as tf\n",
        "import tensorflow_text as tft\n",
        "import textwrap\n",
        "from nltk.tokenize import sent_tokenize\n",
        "from collections import OrderedDict\n",
        "tf.enable_v2_behavior()"
      ],
      "execution_count": null,
      "outputs": []
    },
    {
      "cell_type": "code",
      "metadata": {
        "id": "bizhVj_pjN32"
      },
      "source": [
        "tokenizer = tft.SentencepieceTokenizer(\r\n",
        "        model=tf.io.gfile.GFile(\"gs://bigbird-freefly/summarization/FNS_plargeb_6.0/export/pegasus.model\", \"rb\").read())\r\n",
        "def filter(text):\r\n",
        "  s = sent_tokenize(text)\r\n",
        "  return \" \".join((OrderedDict([(n.lstrip()[:25],n) for n in s]).values()))"
      ],
      "execution_count": null,
      "outputs": []
    },
    {
      "cell_type": "markdown",
      "metadata": {
        "id": "1W572kOSHHI2"
      },
      "source": [
        "## Load Saved Model"
      ]
    },
    {
      "cell_type": "code",
      "metadata": {
        "id": "k4oqa8sHErHq"
      },
      "source": [
        "path = 'gs://bigbird-freefly/summarization/FNS_plargeb_6.0/export/1616016549'\n",
        "imported_model = tf.saved_model.load(path, tags='serve')\n",
        "summerize = imported_model.signatures['serving_default']"
      ],
      "execution_count": null,
      "outputs": []
    },
    {
      "cell_type": "markdown",
      "metadata": {
        "id": "EBWetEuUw4ki"
      },
      "source": [
        "## Financial Narrative Example"
      ]
    },
    {
      "cell_type": "code",
      "metadata": {
        "id": "8OAeScGBNsUD"
      },
      "source": [
        "text = \"\"\"A slow finish to the end of 2015 meant a lack of \r\n",
        "momentum entering 2016 and consequently \r\n",
        "a disappointing first quarter in terms of financial \r\n",
        "performance. By the second quarter, we were \r\n",
        "performing better and finished the year well. \r\n",
        "This was overall an encouraging performance \r\n",
        "in a market environment that continues to be \r\n",
        "attritional, with negligible sector growth and \r\n",
        "downwards pressure on service pricing. \r\n",
        "We have started to generate revenues from our \r\n",
        "Global Xpress broadband services and have made \r\n",
        "continued progress in the positioning of our L -band \r\n",
        "services for complementary revenue growth, and \r\n",
        "alongside this we are continuing to invest in our \r\n",
        "support for innovative solutions and products. \r\n",
        "Our diversified business model continues to be \r\n",
        "one of our strengths, allowing us to benefit from \r\n",
        "opportunities in one area if another is affected \r\n",
        "by a business downturn and to stay the course \r\n",
        "through business downcycles in our core sectors. \r\n",
        "The anticipation of additional satellite capacity in \r\n",
        "adjacent markets may affect our own global mobility \r\n",
        "markets. We therefore regularly review how we \r\n",
        "respond to this new market dynamic and make \r\n",
        "our services relevant to our partners and customers \r\n",
        "as they consider their buying patterns and needs. \r\n",
        "The geo-political environment also provides \r\n",
        "uncertainty as to the performance of global \r\n",
        "markets. We are globally dispersed and the \r\n",
        "majority of our revenues are denominated in \r\n",
        "USD which provided us with some financial benefit \r\n",
        "in 2016; this protected us from some of the issues \r\n",
        "other UK companies had following the Brexit \r\n",
        "decision. We are watchful as to how we may be \r\n",
        "affected as geo-political activities occur.\r\n",
        "2016 saw several changes in our executive \r\n",
        "management board, with Debbie Jones, Ruy Pinto, \r\n",
        "Pat McDougal and Chris McLaughlin – after long \r\n",
        "and illustrious careers at Inmarsat – all retiring \r\n",
        "or moving on at the year end or shortly afterwards. \r\n",
        "We thank them for their contributions and for \r\n",
        "the foundations for growth that each has helped \r\n",
        "Inmarsat establish.\"\"\""
      ],
      "execution_count": null,
      "outputs": []
    },
    {
      "cell_type": "markdown",
      "metadata": {
        "id": "A_fBEcJIHO0g"
      },
      "source": [
        "## Generate summary"
      ]
    },
    {
      "cell_type": "code",
      "metadata": {
        "id": "W51RZ6ylHbE0"
      },
      "source": [
        "predicted_summary = summerize(tf.constant(text.strip('\\n')))"
      ],
      "execution_count": null,
      "outputs": []
    },
    {
      "cell_type": "code",
      "metadata": {
        "id": "0ubEWsDqGFUq"
      },
      "source": [
        "predicted_summary = (tokenizer.detokenize(predicted_summary['pred_ids']).numpy())[0].decode()\n",
        "print('Predicted summary:\\n {}\\n\\n '.format(\n",
        "    textwrap.fill(filter(predicted_summary),50))\n",
        ")"
      ],
      "execution_count": null,
      "outputs": []
    }
  ]
}