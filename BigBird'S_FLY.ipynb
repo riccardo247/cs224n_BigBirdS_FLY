{
  "nbformat": 4,
  "nbformat_minor": 0,
  "metadata": {
    "accelerator": "GPU",
    "colab": {
      "name": "BigBird'S FLY.ipynb",
      "provenance": [],
      "collapsed_sections": [],
      "toc_visible": true,
      "include_colab_link": true
    },
    "kernelspec": {
      "display_name": "Python 3",
      "name": "python3"
    }
  },
  "cells": [
    {
      "cell_type": "markdown",
      "metadata": {
        "id": "view-in-github",
        "colab_type": "text"
      },
      "source": [
        "<a href=\"https://colab.research.google.com/github/riccardo247/cs224n_BigBirdS_FLY/blob/main/BigBird'S_FLY.ipynb\" target=\"_parent\"><img src=\"https://colab.research.google.com/assets/colab-badge.svg\" alt=\"Open In Colab\"/></a>"
      ]
    },
    {
      "cell_type": "markdown",
      "metadata": {
        "id": "6CODJ2BDEdTN"
      },
      "source": [
        "\n",
        "<a href=\"https://colab.research.google.com/github/google-research/bigbird/blob/master/bigbird/summarization/eval.ipynb\" target=\"_parent\"><img src=\"https://colab.research.google.com/assets/colab-badge.svg\" alt=\"Open In Colab\"/></a>"
      ]
    },
    {
      "cell_type": "code",
      "metadata": {
        "id": "BAEheXiPEUAF",
        "colab": {
          "base_uri": "https://localhost:8080/"
        },
        "outputId": "d42a6140-086c-4a21-dd7b-e4be9062c76d"
      },
      "source": [
        "!pip install git+https://github.com/google-research/bigbird.git -q"
      ],
      "execution_count": 1,
      "outputs": [
        {
          "output_type": "stream",
          "text": [
            "  Building wheel for bigbird (setup.py) ... \u001b[?25l\u001b[?25hdone\n"
          ],
          "name": "stdout"
        }
      ]
    },
    {
      "cell_type": "code",
      "metadata": {
        "id": "zMotUClMFbHj",
        "colab": {
          "base_uri": "https://localhost:8080/"
        },
        "outputId": "5504f12b-af09-4535-f890-f8c1458a4446"
      },
      "source": [
        "! pip install --upgrade --force-reinstall nltk"
      ],
      "execution_count": 4,
      "outputs": [
        {
          "output_type": "stream",
          "text": [
            "Processing /root/.cache/pip/wheels/ae/8c/3f/b1fe0ba04555b08b57ab52ab7f86023639a526d8bc8d384306/nltk-3.5-cp37-none-any.whl\n",
            "Collecting joblib\n",
            "  Using cached https://files.pythonhosted.org/packages/55/85/70c6602b078bd9e6f3da4f467047e906525c355a4dacd4f71b97a35d9897/joblib-1.0.1-py3-none-any.whl\n",
            "Collecting click\n",
            "  Using cached https://files.pythonhosted.org/packages/d2/3d/fa76db83bf75c4f8d338c2fd15c8d33fdd7ad23a9b5e57eb6c5de26b430e/click-7.1.2-py2.py3-none-any.whl\n",
            "Collecting regex\n",
            "  Using cached https://files.pythonhosted.org/packages/84/7f/cf29aa66bd1846df3fc0e494cc8eedfefb9328ad68798dc8be0dbcfc165b/regex-2021.3.17-cp37-cp37m-manylinux2014_x86_64.whl\n",
            "Collecting tqdm\n",
            "  Using cached https://files.pythonhosted.org/packages/f8/3e/2730d0effc282960dbff3cf91599ad0d8f3faedc8e75720fdf224b31ab24/tqdm-4.59.0-py2.py3-none-any.whl\n",
            "Installing collected packages: joblib, click, regex, tqdm, nltk\n",
            "  Found existing installation: joblib 1.0.1\n",
            "    Uninstalling joblib-1.0.1:\n",
            "      Successfully uninstalled joblib-1.0.1\n",
            "  Found existing installation: click 7.1.2\n",
            "    Uninstalling click-7.1.2:\n",
            "      Successfully uninstalled click-7.1.2\n",
            "  Found existing installation: regex 2021.3.17\n",
            "    Uninstalling regex-2021.3.17:\n",
            "      Successfully uninstalled regex-2021.3.17\n",
            "  Found existing installation: tqdm 4.59.0\n",
            "    Uninstalling tqdm-4.59.0:\n",
            "      Successfully uninstalled tqdm-4.59.0\n",
            "  Found existing installation: nltk 3.5\n",
            "    Uninstalling nltk-3.5:\n",
            "      Successfully uninstalled nltk-3.5\n",
            "Successfully installed click-7.1.2 joblib-1.0.1 nltk-3.5 regex-2021.3.17 tqdm-4.59.0\n"
          ],
          "name": "stdout"
        }
      ]
    },
    {
      "cell_type": "code",
      "metadata": {
        "colab": {
          "base_uri": "https://localhost:8080/"
        },
        "id": "iYX9na7prFtM",
        "outputId": "d3df7b59-92b9-4802-98ce-ab12a905eafb"
      },
      "source": [
        "import nltk\r\n",
        "nltk.download('punkt')"
      ],
      "execution_count": 5,
      "outputs": [
        {
          "output_type": "stream",
          "text": [
            "[nltk_data] Downloading package punkt to /root/nltk_data...\n",
            "[nltk_data]   Unzipping tokenizers/punkt.zip.\n"
          ],
          "name": "stderr"
        },
        {
          "output_type": "execute_result",
          "data": {
            "text/plain": [
              "True"
            ]
          },
          "metadata": {
            "tags": []
          },
          "execution_count": 5
        }
      ]
    },
    {
      "cell_type": "code",
      "metadata": {
        "id": "qFqiLMrtELV-"
      },
      "source": [
        "import tensorflow.compat.v2 as tf\n",
        "import textwrap\n",
        "from nltk.tokenize import sent_tokenize\n",
        "from collections import OrderedDict\n",
        "tf.enable_v2_behavior()"
      ],
      "execution_count": 6,
      "outputs": []
    },
    {
      "cell_type": "code",
      "metadata": {
        "id": "bizhVj_pjN32"
      },
      "source": [
        "tokenizer = tft.SentencepieceTokenizer(\r\n",
        "        model=tf.io.gfile.GFile(\"gs://bigbird-freefly/summarization/FNS_plargeb_6.0/export/pegasus.model\", \"rb\").read())\r\n",
        "def filter(text):\r\n",
        "  s = sent_tokenize(text)\r\n",
        "  return \" \".join((OrderedDict([(n.lstrip()[:25],n) for n in s]).values()))"
      ],
      "execution_count": 37,
      "outputs": []
    },
    {
      "cell_type": "markdown",
      "metadata": {
        "id": "1W572kOSHHI2"
      },
      "source": [
        "## Load Saved Model"
      ]
    },
    {
      "cell_type": "code",
      "metadata": {
        "id": "k4oqa8sHErHq"
      },
      "source": [
        "path = 'gs://bigbird-freefly/summarization/FNS_plargeb_6.0/export/1616016549'\n",
        "imported_model = tf.saved_model.load(path, tags='serve')\n",
        "summerize = imported_model.signatures['serving_default']"
      ],
      "execution_count": 17,
      "outputs": []
    },
    {
      "cell_type": "markdown",
      "metadata": {
        "id": "EBWetEuUw4ki"
      },
      "source": [
        "## Financial Narrative Example"
      ]
    },
    {
      "cell_type": "code",
      "metadata": {
        "id": "8OAeScGBNsUD"
      },
      "source": [
        "text = \"\"\"A slow finish to the end of 2015 meant a lack of \r\n",
        "momentum entering 2016 and consequently \r\n",
        "a disappointing first quarter in terms of financial \r\n",
        "performance. By the second quarter, we were \r\n",
        "performing better and finished the year well. \r\n",
        "This was overall an encouraging performance \r\n",
        "in a market environment that continues to be \r\n",
        "attritional, with negligible sector growth and \r\n",
        "downwards pressure on service pricing. \r\n",
        "We have started to generate revenues from our \r\n",
        "Global Xpress broadband services and have made \r\n",
        "continued progress in the positioning of our L -band \r\n",
        "services for complementary revenue growth, and \r\n",
        "alongside this we are continuing to invest in our \r\n",
        "support for innovative solutions and products. \r\n",
        "Our diversified business model continues to be \r\n",
        "one of our strengths, allowing us to benefit from \r\n",
        "opportunities in one area if another is affected \r\n",
        "by a business downturn and to stay the course \r\n",
        "through business downcycles in our core sectors. \r\n",
        "The anticipation of additional satellite capacity in \r\n",
        "adjacent markets may affect our own global mobility \r\n",
        "markets. We therefore regularly review how we \r\n",
        "respond to this new market dynamic and make \r\n",
        "our services relevant to our partners and customers \r\n",
        "as they consider their buying patterns and needs. \r\n",
        "The geo-political environment also provides \r\n",
        "uncertainty as to the performance of global \r\n",
        "markets. We are globally dispersed and the \r\n",
        "majority of our revenues are denominated in \r\n",
        "USD which provided us with some financial benefit \r\n",
        "in 2016; this protected us from some of the issues \r\n",
        "other UK companies had following the Brexit \r\n",
        "decision. We are watchful as to how we may be \r\n",
        "affected as geo-political activities occur.\r\n",
        "2016 saw several changes in our executive \r\n",
        "management board, with Debbie Jones, Ruy Pinto, \r\n",
        "Pat McDougal and Chris McLaughlin – after long \r\n",
        "and illustrious careers at Inmarsat – all retiring \r\n",
        "or moving on at the year end or shortly afterwards. \r\n",
        "We thank them for their contributions and for \r\n",
        "the foundations for growth that each has helped \r\n",
        "Inmarsat establish.\"\"\""
      ],
      "execution_count": 18,
      "outputs": []
    },
    {
      "cell_type": "markdown",
      "metadata": {
        "id": "A_fBEcJIHO0g"
      },
      "source": [
        "## Generate summary"
      ]
    },
    {
      "cell_type": "code",
      "metadata": {
        "id": "W51RZ6ylHbE0"
      },
      "source": [
        "predicted_summary = summerize(tf.constant(text.strip('\\n')))"
      ],
      "execution_count": 29,
      "outputs": []
    },
    {
      "cell_type": "code",
      "metadata": {
        "colab": {
          "base_uri": "https://localhost:8080/"
        },
        "id": "0ubEWsDqGFUq",
        "outputId": "7f3b9566-2cb1-4cc7-e3b8-f2ddf10bd8e3"
      },
      "source": [
        "predicted_summary = (tokenizer.detokenize(predicted_summary['pred_ids']).numpy())[0].decode()\n",
        "print('Predicted summary:\\n {}\\n\\n '.format(\n",
        "    textwrap.fill(filter(predicted_summary),50))\n",
        ")"
      ],
      "execution_count": 38,
      "outputs": [
        {
          "output_type": "stream",
          "text": [
            "Predicted summary:\n",
            " 2016 was an encouraging year for us in terms of\n",
            "financial performance and we are pleased with the\n",
            "progress we have made in positioning the business\n",
            "for the future. we have made good progress in\n",
            "positioning the business for complementary revenue\n",
            "growth from our denominated broadband and\n",
            "satellite services. 2016 saw several changes in\n",
            "our executive management board, with the\n",
            "retirement or moving on of long-term employees or\n",
            "shortly after their careers had ended. we wish\n",
            "them well in their future endeavours.\n",
            "\n",
            " \n"
          ],
          "name": "stdout"
        }
      ]
    }
  ]
}