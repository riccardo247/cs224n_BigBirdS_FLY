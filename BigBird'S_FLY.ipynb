{
  "nbformat": 4,
  "nbformat_minor": 0,
  "metadata": {
    "accelerator": "GPU",
    "colab": {
      "name": "BigBird'S FLY.ipynb",
      "provenance": [],
      "collapsed_sections": [],
      "toc_visible": true,
      "include_colab_link": true
    },
    "kernelspec": {
      "display_name": "Python 3",
      "name": "python3"
    }
  },
  "cells": [
    {
      "cell_type": "markdown",
      "metadata": {
        "id": "view-in-github",
        "colab_type": "text"
      },
      "source": [
        "<a href=\"https://colab.research.google.com/github/riccardo247/cs224n_BigBirdS_FLY/blob/main/BigBird'S_FLY.ipynb\" target=\"_parent\"><img src=\"https://colab.research.google.com/assets/colab-badge.svg\" alt=\"Open In Colab\"/></a>"
      ]
    },
    {
      "cell_type": "markdown",
      "metadata": {
        "id": "cD4xFEjWxtpc"
      },
      "source": [
        "### BigBird'S FLY: Summarising Financial Long text You can read\n",
        "\n",
        "\n"
      ]
    },
    {
      "cell_type": "code",
      "metadata": {
        "id": "BAEheXiPEUAF"
      },
      "source": [
        "#BigBird repo https://github.com/google-research/bigbird\n",
        "!pip install git+https://github.com/google-research/bigbird.git -q"
      ],
      "execution_count": null,
      "outputs": []
    },
    {
      "cell_type": "code",
      "metadata": {
        "id": "zMotUClMFbHj"
      },
      "source": [
        "! pip install --upgrade --force-reinstall nltk"
      ],
      "execution_count": null,
      "outputs": []
    },
    {
      "cell_type": "code",
      "metadata": {
        "id": "iYX9na7prFtM"
      },
      "source": [
        "import nltk\n",
        "nltk.download('punkt')"
      ],
      "execution_count": null,
      "outputs": []
    },
    {
      "cell_type": "code",
      "metadata": {
        "id": "qFqiLMrtELV-"
      },
      "source": [
        "import tensorflow.compat.v2 as tf\n",
        "import tensorflow_text as tft\n",
        "import textwrap\n",
        "import re\n",
        "from nltk.tokenize import sent_tokenize\n",
        "from collections import OrderedDict\n",
        "tf.enable_v2_behavior()"
      ],
      "execution_count": null,
      "outputs": []
    },
    {
      "cell_type": "code",
      "metadata": {
        "id": "bizhVj_pjN32"
      },
      "source": [
        "prefix=25\n",
        "tokenizer = tft.SentencepieceTokenizer(\n",
        "        model=tf.io.gfile.GFile(\"gs://bigbird-freefly/summarization/FNS_plargeb_6.0/export/pegasus.model\", \"rb\").read())\n",
        "def format_text(text):\n",
        "  s = sent_tokenize(text)\n",
        "  text =  \" \".join((OrderedDict([(n.lstrip()[1:prefix],n) for n in s]).values()))\n",
        "  text = re.sub(r'([0-9$%€£)]{1})([A-Za-z]{1})', r'\\1 \\2', text)\n",
        "  text = re.sub(r'([A-Za-z]{1})([(0-9$%€£]{1})', r'\\1 \\2', text)\n",
        "  text = re.sub(r'([0-9)]{1}),([0-9]{1})', r'\\1\\2', text)\n",
        "  return text.strip('\\n')"
      ],
      "execution_count": null,
      "outputs": []
    },
    {
      "cell_type": "markdown",
      "metadata": {
        "id": "1W572kOSHHI2"
      },
      "source": [
        "## Load Saved Model"
      ]
    },
    {
      "cell_type": "code",
      "metadata": {
        "id": "k4oqa8sHErHq"
      },
      "source": [
        "path = 'gs://bigbird-freefly/summarization/FNS_plargeb_6.0/export/1616016549'\n",
        "imported_model = tf.saved_model.load(path, tags='serve')\n",
        "gen_summary = imported_model.signatures['serving_default']"
      ],
      "execution_count": null,
      "outputs": []
    },
    {
      "cell_type": "markdown",
      "metadata": {
        "id": "EBWetEuUw4ki"
      },
      "source": [
        "## Financial Narrative Example, 317 words"
      ]
    },
    {
      "cell_type": "code",
      "metadata": {
        "id": "8OAeScGBNsUD"
      },
      "source": [
        "#txt example from http://multiling.iit.demokritos.gr/pages/view/1648/task-financial-narrative-summarization\n",
        "text = \"\"\"A slow finish to the end of 2015 meant a lack of \n",
        "momentum entering 2016 and consequently \n",
        "a disappointing first quarter in terms of financial \n",
        "performance. By the second quarter, we were \n",
        "performing better and finished the year well. \n",
        "This was overall an encouraging performance \n",
        "in a market environment that continues to be \n",
        "attritional, with negligible sector growth and \n",
        "downwards pressure on service pricing. \n",
        "We have started to generate revenues from our \n",
        "Global Xpress broadband services and have made \n",
        "continued progress in the positioning of our L -band \n",
        "services for complementary revenue growth, and \n",
        "alongside this we are continuing to invest in our \n",
        "support for innovative solutions and products. \n",
        "Our diversified business model continues to be \n",
        "one of our strengths, allowing us to benefit from \n",
        "opportunities in one area if another is affected \n",
        "by a business downturn and to stay the course \n",
        "through business downcycles in our core sectors. \n",
        "The anticipation of additional satellite capacity in \n",
        "adjacent markets may affect our own global mobility \n",
        "markets. We therefore regularly review how we \n",
        "respond to this new market dynamic and make \n",
        "our services relevant to our partners and customers \n",
        "as they consider their buying patterns and needs. \n",
        "The geo-political environment also provides \n",
        "uncertainty as to the performance of global \n",
        "markets. We are globally dispersed and the \n",
        "majority of our revenues are denominated in \n",
        "USD which provided us with some financial benefit \n",
        "in 2016; this protected us from some of the issues \n",
        "other UK companies had following the Brexit \n",
        "decision. We are watchful as to how we may be \n",
        "affected as geo-political activities occur.\n",
        "2016 saw several changes in our executive \n",
        "management board, with Debbie Jones, Ruy Pinto, \n",
        "Pat McDougal and Chris McLaughlin – after long \n",
        "and illustrious careers at Inmarsat – all retiring \n",
        "or moving on at the year end or shortly afterwards. \n",
        "We thank them for their contributions and for \n",
        "the foundations for growth that each has helped \n",
        "Inmarsat establish.\"\"\""
      ],
      "execution_count": null,
      "outputs": []
    },
    {
      "cell_type": "markdown",
      "metadata": {
        "id": "A_fBEcJIHO0g"
      },
      "source": [
        "## Generate summary"
      ]
    },
    {
      "cell_type": "code",
      "metadata": {
        "id": "W51RZ6ylHbE0"
      },
      "source": [
        "summary = gen_summary(tf.constant(format_text(text)))"
      ],
      "execution_count": null,
      "outputs": []
    },
    {
      "cell_type": "code",
      "metadata": {
        "id": "0ubEWsDqGFUq",
        "colab": {
          "base_uri": "https://localhost:8080/"
        },
        "outputId": "07ef814b-f340-4e79-ce56-240516e3f472"
      },
      "source": [
        "summary = (tokenizer.detokenize(summary['pred_ids']).numpy())[0].decode()\n",
        "print('Summary:\\n {} '.format(\n",
        "    textwrap.fill(format_text(summary),50))\n",
        ")"
      ],
      "execution_count": null,
      "outputs": [
        {
          "output_type": "stream",
          "text": [
            "Summary:\n",
            " 2016 was an encouraging year for us in terms of\n",
            "financial performance and we are pleased with the\n",
            "progress we have made in positioning the business\n",
            "for the future. we have made good progress in\n",
            "positioning the business for complementary revenue\n",
            "growth from our denominated broadband and\n",
            "satellite services. 2016 saw several changes in\n",
            "our executive management board, with the\n",
            "retirement or moving on of long-term employees or\n",
            "shortly after their careers had ended. we wish\n",
            "them well in their future endeavours. \n"
          ],
          "name": "stdout"
        }
      ]
    },
    {
      "cell_type": "markdown",
      "metadata": {
        "id": "_AV2HrG5sP_p"
      },
      "source": [
        "## Financial Narrative Example 2, 2332 words"
      ]
    },
    {
      "cell_type": "code",
      "metadata": {
        "id": "P3Z98yJIsWL7"
      },
      "source": [
        "#txt example from http://multiling.iit.demokritos.gr/pages/view/1648/task-financial-narrative-summarization\n",
        "text = \"\"\"i am pleased to report to shareholders that the bank made an operating profit before tax of 239 million in 2017, an improvement on the previous\n",
        "year's operating profit of 239 million. We have achieved profitability through delivering on the strategic plan that was set out in 2014. The first part of this \n",
        "plan was focused on building financial strength by reducing risk and building a more sustainable cost base. So far, we have reduced our risk-weighted \n",
        "assets by £228 billion and today can report a Common Equity Tier 1 ratio of 15.9% up from 8.6% in 2013. Our financial strength is now much clearer. \n",
        "Over the same period we have reduced operating costs by £ 3.9 billion. We still have more to do on cost reduction, however this reflects the progress we \n",
        "have made in making the bank more efficient. A clear indication of the outstanding progress we have made is that from the \n",
        "first quarter of 2018, we will no longer report adjusted financials. At the same time as building financial strength, we have also made progress \n",
        "with the legacy of our past and improving our core bank. We have delivered on this by resolving a number of our litigation and conduct issues. This \n",
        "includes reaching settlements last year with FHFA in respect of our historical Retail Mortgage Backed Securities (RMBS) activities and with claimants \n",
        "in relation to our 2008 Rights Issue. In 2017 we also continued to run down our legacy assets. The wind-up of our non-core division, Capital Resolution in 2017, \n",
        "was an important moment. As part of the support we received in 2008 and 2009, the bank was mandated to meet certain requirements under a \n",
        "State Aid restructuring plan. In 2017, we received approval for an alternative remedies package, which replaced our original plan to divest of the business \n",
        "formally known as Williams & Glyn. This is a good solution, both for improving competition in the UK SME banking market, and for shareholders.\n",
        "With this solution in place and currently being implemented, the number of legacy issues the bank faces has reduced. However, we have one major \n",
        "legacy issue that we have yet to resolve which is with the US Department of Justice. The timing of the resolution of this issue is not in our control. \n",
        "Chief Executive’s review \n",
        "The bank has received significant media attention for its treatment of some small business customers between 2008 and 2013. To those customers who did not \n",
        "receive the experience they should have done while in GRG we have apologised. We accept that we got a lot wrong in how we treated customers in GRG \n",
        "during the crisis. However, these were complex and subjective cases with each case having unique facts about what was the right thing to do. The \n",
        "bank welcomes the FCA’s confirmation that the most serious allegations made against the bank have not been upheld and that the steps the bank announced \n",
        "in November 2016 to put things right for customers are appropriate. We have made significant progress in improving our culture since then. \n",
        "Today this bank is a simpler and safer organisation, with colleagues now fully focused on our customers. I want to thank our colleagues for their \n",
        "commitment and resolve during what has been a difficult chapter in the bank’s history. Our most recent colleague survey, Our View, reported the highest \n",
        "engagement levels in ten years. We also recently won the ‘Employee Engagement Company of the Year’ at the UK Employee Engagement Awards. This shows that our culture is \n",
        "improving. This bank is now more open, less hierarchical and more focused on our customers. Our colleagues serve and support millions of customers \n",
        "across the UK and Republic of Ireland every day, it is vital to our success that they feel engaged and motivated. Investing to transform our business \n",
        "When I started as CEO in 2014 the bank was far too complex. We operated in 38 countries, with over 5,000 systems supporting hundreds of different \n",
        "products. In our credit card business alone we offered 55 different card designs, as the organisation had grown we had added complexity which \n",
        "distracted us from our key stakeholder, the customer. Our customers want a bank which protects their safety and security, and is also responsive to  their needs.\n",
        "Today we have exited 26 countries and now have a more focused product set, underpinned by almost half the number of systems we previously had. Simplification will continue to be a key \n",
        "focus for the organisation in 2018. We are going through all of our end-to-end customer processes to ensure they are fit for purpose. \n",
        "Our mortgage application journey is experienced by thousands of customers every day. With one of our strategic aims being to grow in this market, the benefits of simplification and \n",
        "automation in this area are vast. Given this, in 2017 NatWest was the first UK bank to offer paperless mortgages. Customers can now apply for a \n",
        "completely digital mortgage which uses the latest technology to securely share and verify documents online. With this new proposition, mortgage offers can \n",
        "now be made within 11 days, down from 23 days before. The process also eliminates close to 4.3 million sheets of paper a year, reducing our impact on \n",
        "the environment. The opportunities created by greater simplification and automation, in terms of improved controls, cost reduction and a better customer experience,  \n",
        "are significant for this bank.As well as transforming our processes and products, in 2017 we continued to reap the benefits of refocusing our main \n",
        "customer-facing brands. With each now speaking to a unique constituency of customers, we are better placed to differentiate ourselves from our \n",
        "competitors. With NatWest for England and Wales, Royal Bank of Scotland, for Scotland and Ulster Bank for the island of Ireland – we truly are a bank of \n",
        "brands in the UK and the Republic  of Ireland. Customer driven change Listening and responding to our customers is helping us to get closer to meeting our goal to be No.1. In light \n",
        "of this we have continued with the roll out of Closed Loop Feedback in 2017. Today, within 24 hours of an interaction taking place, customers can provide \n",
        "specific, actionable feedback directly to the teams that serve them, empowering colleagues to listen, learn from and act on what our customers are telling \n",
        "us. With our complaints volumes down 9% on the previous year, and our Net Promoter scores improving in half of our chosen customer segments, we continue to see the benefits of customer \n",
        "driven change in this bank.  We still  have a lot of work to do to meet our 2020 ambition of being the number  one bank for customer service,  \n",
        "trust and advocacy. Listening to our customers is not only reducing complaints, it’s also driving product and service improvements. In our commercial bank for instance, \n",
        "in response to customers’ demand for greater speed and efficiency, we have developed self service account opening. Through this channel more than 90% of \n",
        "our new to bank commercial customers are able to initiate account openings themselves and, crucially, are doing it 30 minutes faster than if they used \n",
        "telephony. Customers told us this  was a pain point for them and we  have responded.\n",
        "Listening to our customers and investing to simplifying our processes is helping us build a bank which is lower cost, and competitive in our target \n",
        "markets – improving outcomes for both customers and shareholders. We are committed to running the bank as a more sustainable business, \n",
        "serving today’s customers in a way that also helps future generations. As technological, social and environmental changes shape the world, it’s important \n",
        "to stay connected with evolving customer needs, our shareholders and the wider expectations of society. One of the ways in which we are doing this \n",
        "is through our Board-level stakeholder engagement programme where we proactively listen, learn and engage with our stakeholders to improve the \n",
        "way we do business. Supporting the UK economy while transforming the bank, we have continued to support the UK economy. \n",
        "In 2017 we extended £33.9 billion in new mortgage lending, helping grow our mortgage market share for the fifth consecutive year. We continue to target \n",
        "growth in our mortgage market share in 2018. We are also the biggest supporter of UK business. Our commercial bank grew lending in our target markets, \n",
        "this commitment supported both recognised household names and fledgling start-ups. Our commitment to business goes beyond simple financing, our Entrepreneurial Spark \n",
        "programme continued to grow in 2017 and has supported over 3,800 new businesses since 2012 with award-winning facilities and an outstanding support network. Our work is also being \n",
        "recognised externally. In 2017 NatWest was awarded Best Business Bank in the UK by the National Association of Commercial and Finance Brokers. Throughout 2017 NatWest Markets \n",
        "has continued to deepen its customer relationships by providing global market access and innovative and tailored solutions.  As well as increasing \n",
        "employee engagement and improving the control environment, the business has made material progress to realise cost and operating efficiencies. Responding to technological change\n",
        "The financial services industry is going through one of the most significant periods of change we have seen in many years, and we are responding. Like other industries, the digital \n",
        "revolution has naturally led to lower footfall in our branches. Branch transactions are down 40% on 2013, as increasingly our customers prefer the convenience and ease of digital \n",
        "banking. Given this we have made some difficult, but necessary, decisions around the scale of our branch network \n",
        "in 2017. This does not mean we are not supporting our customers. In fact we are providing customers more ways to bank than ever before, be that through \n",
        "a visit to their local Post Office, a visit from one of our 39 mobile branches, which visit over 600 towns and villages on a weekly basis, meeting one of \n",
        "our 100 community bankers, a digital appointment with one of our video bankers, logging on to internet banking platform, or banking on the go with \n",
        "our market leading mobile app. Our customers have never had as many channels through which to undertake their banking. For the first time we now have more \n",
        "active mobile users than users online, a clear indication of the direction of travel of our customers’ banking preferences. Our ambition is for the standard \n",
        "of service we provide to always be outstanding, no matter how our customers choose to interact with us. In 2018 our branches will increasingly \n",
        "focus providing specialised expertise and advice as well as on helping customers tap into the wealth of ease and efficiency they can experience \n",
        "through using our digital channels. In our commercial bank, we are supporting customers shift to mobile through building our online service \n",
        "Bankline service into an app. Currently, 90,000 commercial customers are active on Bankline. In the future we expect this to move increasingly to \n",
        "mobile.  In 2018, we will also launch Bankline mobile for our larger commercial customers. This new service will act as a companion to our \n",
        "current Bankline on-line technology. Initially, customers will be able to view transactions and send payments with biometric approval. In the coming \n",
        "quarters we will further expand the scope of what Bankline Mobile offers. Embracing the latest in digital innovation\n",
        "We know that we cannot stand still on innovation as our competitors certainly are not.  Over the last few years we have invested in building our \n",
        "partnerships and scouting networks across the globe to ensure we are at the cutting edge of technology. We have developed some excellent partnerships \n",
        "and one area we have advanced significantly in is Artificial  Intelligence (AI). By harnessing the latest in computer learning and speech recognition, in \n",
        "partnership with IBM, we have built an AI chatbot, called Cora. Cora is helping our customers with many of their most common queries. Crucially Cora is available 24/7, has no ‘wait-time’ \n",
        "to serve a customer and can handle an unlimited number of queries at the same time. Since Q1 2017 Cora has handled over four hundred thousand \n",
        "conversations responding to over two hundred different questions. In partnership with Soul Machines, we are investing now to build an evolution \n",
        "of Cora for 2018, giving her a visual avatar acting as the interface with our customers. Initial trials are proving a success with customers telling us that \n",
        "using Cora made them less concerned about converting to our other digital channels.  While many customers felt empowered to be more direct in their \n",
        "questioning of Cora, as they felt much safer and more secure with her. Through digital innovation we will serve customers more efficiently, be more \n",
        "responsive to their needs and at the same reduce costs in the business and build a more solid control environment. Looking forward In the past our legacy has dominated \n",
        "our corporate story. In 2017 our financial strength improved and we continued to put the past behind \n",
        "us. We are entering a new phase of transforming the core bank through technology innovation and end-to-end process re-engineering. Our future \n",
        "will be high tech and high touch, which means lower cost, high quality digital services with human expertise available when required.\n",
        "Conclusion\n",
        "I would like to thank shareholders for their continued support. We welcome the indication in the Chancellor’s budget statement about the potential to \n",
        "restart share sales during the fiscal year 2018/2019, again this is a further proof of the progress we have made.\n",
        "We recognise our responsibility towards the society we serve and operate in. It is only by supporting our customers and communities to succeed that we will \n",
        "be become a more sustainable bank. I, together with my management team, view this as a core part of our ambition to be No.1 for customer service, trust \n",
        "and advocacy.As the number of our legacy issues reduces, and our business performance improves, the investment case for this bank is clearer, and the prospect of us \n",
        "rewarding our shareholders is getting closer.\"\"\""
      ],
      "execution_count": null,
      "outputs": []
    },
    {
      "cell_type": "code",
      "metadata": {
        "id": "moIs6wB7t69r"
      },
      "source": [
        "summary = gen_summary(tf.constant(format_text(text)))\n"
      ],
      "execution_count": null,
      "outputs": []
    },
    {
      "cell_type": "code",
      "metadata": {
        "colab": {
          "base_uri": "https://localhost:8080/"
        },
        "id": "ysCszjvAt-Cr",
        "outputId": "002b1411-a15d-4fd2-c883-c8c7e08c2d24"
      },
      "source": [
        "summary = (tokenizer.detokenize(summary['pred_ids']).numpy())[0].decode()\n",
        "print('Summary:\\n {}'.format(\n",
        "    textwrap.fill(format_text(summary),50))\n",
        ")"
      ],
      "execution_count": null,
      "outputs": [
        {
          "output_type": "stream",
          "text": [
            "Summary:\n",
            " i am pleased to report to shareholders that the\n",
            "bank made an operating profit before tax of 239\n",
            "million in 2017, an improvement on the previous\n",
            "year's operating profit of 239 million. this was\n",
            "achieved through delivering on the strategic plan\n",
            "that was set out in 2014. the first part of this\n",
            "plan was focused on building financial strength by\n",
            "reducing risk and building a more sustainable cost\n",
            "base. far, we have reduced our risk-weighted\n",
            "assets by 28 billion and today, we can report a 1\n",
            "ratio of 15.9% up from 8.6% in 2013. financial\n",
            "strength is now much clearer. the same period we\n",
            "have reduced operating costs by 3.9 billion. still\n",
            "have more to do on cost reduction, however this\n",
            "reflects the progress we have made in making the\n",
            "bank more efficient. clear indication of the\n",
            "outstanding progress we have made is that from the\n",
            "first quarter of 2018 we will no longer report\n",
            "adjusted financials. the same time as building\n",
            "financial strength, we have also made progress\n",
            "with the legacy of our past and improving our core\n",
            "bank. we have delivered on this by resolving a\n",
            "number of our litigation and conduct issues.\n"
          ],
          "name": "stdout"
        }
      ]
    }
  ]
}