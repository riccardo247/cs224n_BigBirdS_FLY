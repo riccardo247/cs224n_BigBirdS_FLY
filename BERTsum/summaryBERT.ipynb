{
 "cells": [
  {
   "cell_type": "markdown",
   "id": "bottom-foundation",
   "metadata": {},
   "source": [
    "# Generate Summary BERT\n",
    "\n",
    "This notebook generates summary for the given documents"
   ]
  },
  {
   "cell_type": "code",
   "execution_count": null,
   "id": "defined-darwin",
   "metadata": {},
   "outputs": [],
   "source": [
    "import torch\n",
    "import os\n",
    "from models.builder import SummarizerLayer\n",
    "from summary import summarize"
   ]
  },
  {
   "cell_type": "code",
   "execution_count": null,
   "id": "moderate-dancing",
   "metadata": {},
   "outputs": [],
   "source": [
    "model_type = 'bert_base'\n",
    "pretrained = torch.load(f'pretrained/{model_type}.pt', map_location='cpu')\n",
    "model = SummarizerLayer(pretrained=pretrained, bert_type=model_type, device='cpu')"
   ]
  },
  {
   "cell_type": "code",
   "execution_count": null,
   "id": "permanent-midnight",
   "metadata": {},
   "outputs": [],
   "source": [
    "#basepath = \"/Users/dhavaldangaria/Documents/Dhaval/stanford/cs224n/Project/sumo/eval_articles/validation_full_text\"\n",
    "basepath = \"/Users/dhavaldangaria/Documents/Dhaval/stanford/cs224n/Project/sumo/Re__doc_table\"\n",
    "for filename in os.listdir(basepath):\n",
    "    if filename.endswith(\".txt\"): \n",
    "        result_fp = \"result_test/\"+filename.split('.')[0]+\"_summary.txt\"\n",
    "        summary = summarize(basepath+'/'+filename, result_fp, model, maxlength=1000)"
   ]
  },
  {
   "cell_type": "code",
   "execution_count": null,
   "id": "liberal-stake",
   "metadata": {},
   "outputs": [],
   "source": []
  }
 ],
 "metadata": {
  "kernelspec": {
   "display_name": "Python 3",
   "language": "python",
   "name": "python3"
  },
  "language_info": {
   "codemirror_mode": {
    "name": "ipython",
    "version": 3
   },
   "file_extension": ".py",
   "mimetype": "text/x-python",
   "name": "python",
   "nbconvert_exporter": "python",
   "pygments_lexer": "ipython3",
   "version": "3.7.7"
  }
 },
 "nbformat": 4,
 "nbformat_minor": 5
}
